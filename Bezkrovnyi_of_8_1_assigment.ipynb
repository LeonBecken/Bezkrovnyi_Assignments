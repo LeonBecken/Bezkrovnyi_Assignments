{
  "cells": [
    {
      "cell_type": "markdown",
      "metadata": {
        "id": "view-in-github",
        "colab_type": "text"
      },
      "source": [
        "<a href=\"https://colab.research.google.com/github/LeonBecken/Bezkrovnyi_Assignments/blob/main/Bezkrovnyi_of_8_1_assigment.ipynb\" target=\"_parent\"><img src=\"https://colab.research.google.com/assets/colab-badge.svg\" alt=\"Open In Colab\"/></a>"
      ]
    },
    {
      "cell_type": "markdown",
      "metadata": {
        "id": "2_R_Ya7UhcB8"
      },
      "source": [
        "# Assignment 8.1\n",
        "\n",
        "> Replace all TODOs with your code.\n",
        ">\n",
        "> Do not change any other code and do not add/remove cells!"
      ]
    },
    {
      "cell_type": "markdown",
      "metadata": {
        "id": "N1SWwMSshfVz"
      },
      "source": [
        "## Classes"
      ]
    },
    {
      "cell_type": "markdown",
      "metadata": {
        "id": "OY8NxJ-CiePg"
      },
      "source": [
        "### Task 1\n",
        "\n",
        "Define a Python class named `Interval` with the following specifications:\n",
        "\n",
        "1. The class should have a constructor (\\_\\_init__) that takes two parameters, start and end, and initializes the interval with these values.\n",
        "2. Ensure that both start and end are numeric (either integers or floats).\n",
        "3. Ensure that the start value is less than or equal to the end value.\n",
        "4. Provide a \\_\\_str__ method to return a string representation of the interval in the format \"[start, end]\"."
      ]
    },
    {
      "cell_type": "code",
      "execution_count": 1,
      "metadata": {
        "id": "VBFmFWDXjQPT",
        "colab": {
          "base_uri": "https://localhost:8080/"
        },
        "outputId": "b0bdb2a8-5ea4-4929-a3dd-48fa0b6600c8"
      },
      "outputs": [
        {
          "output_type": "stream",
          "name": "stdout",
          "text": [
            "[1, 5]\n"
          ]
        }
      ],
      "source": [
        "class Interval:\n",
        "    def __init__(self, start, end):\n",
        "        if not isinstance(start, (int, float)) or not isinstance(end, (int, float)):\n",
        "            raise TypeError(\"Start and end must be numeric (int or float).\")\n",
        "        if start > end:\n",
        "            raise ValueError(\"Start value must be less than or equal to end value.\")\n",
        "\n",
        "        self.start = start\n",
        "        self.end = end\n",
        "\n",
        "    def __str__(self):\n",
        "        return f\"[{self.start}, {self.end}]\"\n",
        "\n",
        "\n",
        "interval = Interval(1, 5)\n",
        "print(interval)  # [1, 5]"
      ]
    },
    {
      "cell_type": "markdown",
      "metadata": {
        "id": "pJ72CYiylhIY"
      },
      "source": [
        "### Task 2\n",
        "\n",
        "Expand the Interval class by adding a method named `is_overlapping` that checks whether the current interval overlaps with another interval. The method should take another Interval object as a parameter and return `True` if there is an overlap and `False` otherwise."
      ]
    },
    {
      "cell_type": "code",
      "execution_count": 2,
      "metadata": {
        "id": "7t64cfMdl3qe",
        "colab": {
          "base_uri": "https://localhost:8080/"
        },
        "outputId": "d101585e-dc84-496b-b5f9-be3f874f8223"
      },
      "outputs": [
        {
          "output_type": "stream",
          "name": "stdout",
          "text": [
            "Do intervals overlap? True\n",
            "Do intervals overlap? False\n"
          ]
        }
      ],
      "source": [
        "class Interval:\n",
        "    def __init__(self, start, end):\n",
        "        if not isinstance(start, (int, float)) or not isinstance(end, (int, float)):\n",
        "            raise TypeError(\"Start and end must be numeric (int or float).\")\n",
        "        if start > end:\n",
        "            raise ValueError(\"Start value must be less than or equal to end value.\")\n",
        "\n",
        "        self.start = start\n",
        "        self.end = end\n",
        "\n",
        "    def __str__(self):\n",
        "        return f\"[{self.start}, {self.end}]\"\n",
        "\n",
        "    def is_overlapping(self, other_interval):\n",
        "        if not isinstance(other_interval, Interval):\n",
        "            raise TypeError(\"Argument must be an Interval.\")\n",
        "        return self.start <= other_interval.end and other_interval.start <= self.end\n",
        "\n",
        "\n",
        "interval1 = Interval(1, 5)\n",
        "interval2 = Interval(3, 8)\n",
        "\n",
        "overlap_result = interval1.is_overlapping(interval2)\n",
        "print(\"Do intervals overlap?\", overlap_result)  # Do intervals overlap? True\n",
        "\n",
        "interval3 = Interval(6, 10)\n",
        "print(\"Do intervals overlap?\", interval1.is_overlapping(interval3))  # False"
      ]
    },
    {
      "cell_type": "markdown",
      "metadata": {
        "id": "aelqtEfkni2N"
      },
      "source": [
        "### Task 3\n",
        "\n",
        "Expand the `Interval` class by adding a **static** method named `intersection_static` that calculates the intersection of two overlapping intervals. The static method should take two `Interval` objects as parameters and return a new `Interval` representing the intersection if there is one.\n",
        "\n",
        "The method should return `None` if the intervals do not overlap."
      ]
    },
    {
      "cell_type": "code",
      "execution_count": 3,
      "metadata": {
        "id": "E6DNMmTRoyNa",
        "colab": {
          "base_uri": "https://localhost:8080/"
        },
        "outputId": "a6f9f49e-5be8-4a29-bee6-07fe49cee8ff"
      },
      "outputs": [
        {
          "output_type": "stream",
          "name": "stdout",
          "text": [
            "Intersection result (static method): [3, 5]\n",
            "Intersection result (static method): None\n"
          ]
        }
      ],
      "source": [
        "class Interval:\n",
        "    def __init__(self, start, end):\n",
        "        if not isinstance(start, (int, float)) or not isinstance(end, (int, float)):\n",
        "            raise TypeError(\"Start and end must be numeric (int or float).\")\n",
        "        if start > end:\n",
        "            raise ValueError(\"Start value must be less than or equal to end value.\")\n",
        "\n",
        "        self.start = start\n",
        "        self.end = end\n",
        "\n",
        "    def __str__(self):\n",
        "        return f\"[{self.start}, {self.end}]\"\n",
        "\n",
        "    def is_overlapping(self, other_interval):\n",
        "        if not isinstance(other_interval, Interval):\n",
        "            raise TypeError(\"Argument must be an Interval.\")\n",
        "        return self.start <= other_interval.end and other_interval.start <= self.end\n",
        "\n",
        "    @staticmethod\n",
        "    def intersection_static(interval1, interval2):\n",
        "        if not isinstance(interval1, Interval) or not isinstance(interval2, Interval):\n",
        "            raise TypeError(\"Arguments must be Interval objects.\")\n",
        "\n",
        "        if not interval1.is_overlapping(interval2):\n",
        "            return None\n",
        "\n",
        "        new_start = max(interval1.start, interval2.start)\n",
        "        new_end = min(interval1.end, interval2.end)\n",
        "\n",
        "        return Interval(new_start, new_end)\n",
        "\n",
        "\n",
        "# Перевірка\n",
        "interval1 = Interval(1, 5)\n",
        "interval2 = Interval(3, 8)\n",
        "\n",
        "intersection_result_static = Interval.intersection_static(interval1, interval2)\n",
        "print(\"Intersection result (static method):\", intersection_result_static)  # [3, 5]\n",
        "\n",
        "interval3 = Interval(6, 10)\n",
        "print(\"Intersection result (static method):\", Interval.intersection_static(interval1, interval3))  # None"
      ]
    },
    {
      "cell_type": "markdown",
      "metadata": {
        "id": "xGh7oQHFtsSl"
      },
      "source": [
        "### Task 4\n",
        "\n",
        "Expand the `Interval` class by overloading a math operator \"&\" to calculate the intersection of two overlapping intervals. Define the logic for the intersection using the method from the previous task."
      ]
    },
    {
      "cell_type": "code",
      "execution_count": 4,
      "metadata": {
        "id": "3f3CiUlGu1cq",
        "colab": {
          "base_uri": "https://localhost:8080/"
        },
        "outputId": "9710df81-3bbf-43fa-c06d-6b1615aba8ec"
      },
      "outputs": [
        {
          "output_type": "stream",
          "name": "stdout",
          "text": [
            "Intersection result: [3, 5]\n"
          ]
        }
      ],
      "source": [
        "class Interval:\n",
        "    def __init__(self, start, end):\n",
        "        if not isinstance(start, (int, float)) or not isinstance(end, (int, float)):\n",
        "            raise TypeError(\"Start and end must be numeric (int or float).\")\n",
        "        if start > end:\n",
        "            raise ValueError(\"Start value must be less than or equal to end value.\")\n",
        "        self.start = start\n",
        "        self.end = end\n",
        "\n",
        "    def __str__(self):\n",
        "        return f\"[{self.start}, {self.end}]\"\n",
        "\n",
        "    def is_overlapping(self, other_interval):\n",
        "        if not isinstance(other_interval, Interval):\n",
        "            raise TypeError(\"Argument must be an Interval.\")\n",
        "        return self.start <= other_interval.end and other_interval.start <= self.end\n",
        "\n",
        "    @staticmethod\n",
        "    def intersection_static(interval1, interval2):\n",
        "        if not isinstance(interval1, Interval) or not isinstance(interval2, Interval):\n",
        "            raise TypeError(\"Arguments must be Interval objects.\")\n",
        "        if not interval1.is_overlapping(interval2):\n",
        "            return None\n",
        "        new_start = max(interval1.start, interval2.start)\n",
        "        new_end = min(interval1.end, interval2.end)\n",
        "        return Interval(new_start, new_end)\n",
        "\n",
        "    # Перевантаження оператора &: повертає перетин або None\n",
        "    def __and__(self, other):\n",
        "        if not isinstance(other, Interval):\n",
        "            return NotImplemented\n",
        "        return Interval.intersection_static(self, other)\n",
        "\n",
        "\n",
        "# Перевірка\n",
        "interval1 = Interval(1, 5)\n",
        "interval2 = Interval(3, 8)\n",
        "\n",
        "intersection_result = interval1 & interval2\n",
        "print(\"Intersection result:\", intersection_result)  # Intersection result: [3, 5]"
      ]
    },
    {
      "cell_type": "markdown",
      "metadata": {
        "id": "51BGij2Tvoka"
      },
      "source": [
        "### Task 5\n",
        "\n",
        "Expand the `Interval` class by adding a static method named `union_static` that calculates the union of two overlapping intervals. The static method should take two Interval objects as parameters and return a new Interval representing the union if there is one.\n",
        "\n",
        "The method should return `None` if the intervals do not overlap."
      ]
    },
    {
      "cell_type": "code",
      "execution_count": 5,
      "metadata": {
        "id": "Xnm1CbK8v2v1",
        "colab": {
          "base_uri": "https://localhost:8080/"
        },
        "outputId": "1d7efa11-a436-43cd-ff25-b7ef5b3c2eb1"
      },
      "outputs": [
        {
          "output_type": "stream",
          "name": "stdout",
          "text": [
            "Union Result (Static method): [1, 8]\n",
            "Union Result (Static method): None\n"
          ]
        }
      ],
      "source": [
        "class Interval:\n",
        "    def __init__(self, start, end):\n",
        "        if not isinstance(start, (int, float)) or not isinstance(end, (int, float)):\n",
        "            raise TypeError(\"Start and end must be numeric (int or float).\")\n",
        "        if start > end:\n",
        "            raise ValueError(\"Start value must be less than or equal to end value.\")\n",
        "        self.start = start\n",
        "        self.end = end\n",
        "\n",
        "    def __str__(self):\n",
        "        return f\"[{self.start}, {self.end}]\"\n",
        "\n",
        "    def is_overlapping(self, other_interval):\n",
        "        if not isinstance(other_interval, Interval):\n",
        "            raise TypeError(\"Argument must be an Interval.\")\n",
        "        return self.start <= other_interval.end and other_interval.start <= self.end\n",
        "\n",
        "    @staticmethod\n",
        "    def intersection_static(interval1, interval2):\n",
        "        if not isinstance(interval1, Interval) or not isinstance(interval2, Interval):\n",
        "            raise TypeError(\"Arguments must be Interval objects.\")\n",
        "        if not interval1.is_overlapping(interval2):\n",
        "            return None\n",
        "        new_start = max(interval1.start, interval2.start)\n",
        "        new_end = min(interval1.end, interval2.end)\n",
        "        return Interval(new_start, new_end)\n",
        "\n",
        "    @staticmethod\n",
        "    def union_static(interval1, interval2):\n",
        "        if not isinstance(interval1, Interval) or not isinstance(interval2, Interval):\n",
        "            raise TypeError(\"Arguments must be Interval objects.\")\n",
        "        if not interval1.is_overlapping(interval2):\n",
        "            return None\n",
        "        new_start = min(interval1.start, interval2.start)\n",
        "        new_end = max(interval1.end, interval2.end)\n",
        "        return Interval(new_start, new_end)\n",
        "\n",
        "\n",
        "# Перевірка\n",
        "interval1 = Interval(1, 5)\n",
        "interval2 = Interval(3, 8)\n",
        "\n",
        "union_result_static = Interval.union_static(interval1, interval2)\n",
        "print(\"Union Result (Static method):\", union_result_static)  # [1, 8]\n",
        "\n",
        "interval3 = Interval(9, 12)\n",
        "print(\"Union Result (Static method):\", Interval.union_static(interval1, interval3))  # None"
      ]
    },
    {
      "cell_type": "markdown",
      "metadata": {
        "id": "5yGYlKjCwbzr"
      },
      "source": [
        "### Task 6\n",
        "\n",
        "Expand the `Interval` class by overloading a math operator \"|\" to calculate the union  of two overlapping intervals. Define the logic for the union using the method from the previous task."
      ]
    },
    {
      "cell_type": "code",
      "execution_count": 6,
      "metadata": {
        "id": "xjCgPAy5wu1Z",
        "colab": {
          "base_uri": "https://localhost:8080/"
        },
        "outputId": "3fa0df81-7e6c-4cfa-9b80-ad3aaab5e31a"
      },
      "outputs": [
        {
          "output_type": "stream",
          "name": "stdout",
          "text": [
            "Union Result: [1, 8]\n",
            "Union Result: None\n"
          ]
        }
      ],
      "source": [
        "class Interval:\n",
        "    def __init__(self, start, end):\n",
        "        if not isinstance(start, (int, float)) or not isinstance(end, (int, float)):\n",
        "            raise TypeError(\"Start and end must be numeric (int or float).\")\n",
        "        if start > end:\n",
        "            raise ValueError(\"Start value must be less than or equal to end value.\")\n",
        "        self.start = start\n",
        "        self.end = end\n",
        "\n",
        "    def __str__(self):\n",
        "        return f\"[{self.start}, {self.end}]\"\n",
        "\n",
        "    def is_overlapping(self, other_interval):\n",
        "        if not isinstance(other_interval, Interval):\n",
        "            raise TypeError(\"Argument must be an Interval.\")\n",
        "        return self.start <= other_interval.end and other_interval.start <= self.end\n",
        "\n",
        "    @staticmethod\n",
        "    def intersection_static(interval1, interval2):\n",
        "        if not isinstance(interval1, Interval) or not isinstance(interval2, Interval):\n",
        "            raise TypeError(\"Arguments must be Interval objects.\")\n",
        "        if not interval1.is_overlapping(interval2):\n",
        "            return None\n",
        "        new_start = max(interval1.start, interval2.start)\n",
        "        new_end = min(interval1.end, interval2.end)\n",
        "        return Interval(new_start, new_end)\n",
        "\n",
        "    @staticmethod\n",
        "    def union_static(interval1, interval2):\n",
        "        if not isinstance(interval1, Interval) or not isinstance(interval2, Interval):\n",
        "            raise TypeError(\"Arguments must be Interval objects.\")\n",
        "        if not interval1.is_overlapping(interval2):\n",
        "            return None\n",
        "        new_start = min(interval1.start, interval2.start)\n",
        "        new_end = max(interval1.end, interval2.end)\n",
        "        return Interval(new_start, new_end)\n",
        "\n",
        "    # Перевантаження оператора |\n",
        "    def __or__(self, other):\n",
        "        if not isinstance(other, Interval):\n",
        "            return NotImplemented\n",
        "        return Interval.union_static(self, other)\n",
        "\n",
        "\n",
        "# Перевірка\n",
        "interval1 = Interval(1, 5)\n",
        "interval2 = Interval(3, 8)\n",
        "\n",
        "union_result = interval1 | interval2\n",
        "print(\"Union Result:\", union_result)  # Union Result: [1, 8]\n",
        "\n",
        "interval3 = Interval(9, 12)\n",
        "print(\"Union Result:\", interval1 | interval3)  # Union Result: None"
      ]
    },
    {
      "cell_type": "markdown",
      "metadata": {
        "id": "N-hiSBEK0fbz"
      },
      "source": [
        "### Task 7 (optional)\n",
        "\n",
        "Expand the `Interval` class by overloading the \"-\" operator to calculate the difference between two intervals. The method should return a new `Interval` representing the portion of the first interval that is not in the second."
      ]
    },
    {
      "cell_type": "code",
      "execution_count": null,
      "metadata": {
        "id": "YZ5AqAXr002L"
      },
      "outputs": [],
      "source": [
        "class Interval:\n",
        "    # TODO: copy methods from the tasks before\n",
        "\n",
        "    # TODO\n",
        "\n",
        "\n",
        "interval1 = Interval(1, 5)\n",
        "interval2 = Interval(3, 8)\n",
        "\n",
        "print(\"Difference Result:\", interval1 - interval2) # Union Result: [1, 2]\n",
        "print(\"Difference Result:\", interval2 - interval1) # Union Result: [6, 8]"
      ]
    }
  ],
  "metadata": {
    "colab": {
      "provenance": [],
      "toc_visible": true,
      "include_colab_link": true
    },
    "kernelspec": {
      "display_name": "Python 3",
      "name": "python3"
    },
    "language_info": {
      "name": "python"
    }
  },
  "nbformat": 4,
  "nbformat_minor": 0
}