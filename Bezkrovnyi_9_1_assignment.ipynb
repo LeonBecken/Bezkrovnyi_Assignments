{
  "cells": [
    {
      "cell_type": "markdown",
      "metadata": {
        "id": "view-in-github",
        "colab_type": "text"
      },
      "source": [
        "<a href=\"https://colab.research.google.com/github/LeonBecken/Bezkrovnyi_Assignments/blob/main/Bezkrovnyi_9_1_assignment.ipynb\" target=\"_parent\"><img src=\"https://colab.research.google.com/assets/colab-badge.svg\" alt=\"Open In Colab\"/></a>"
      ]
    },
    {
      "cell_type": "markdown",
      "metadata": {
        "id": "oY7M_WqQy7zz"
      },
      "source": [
        "# Assignment 9.1\n",
        "\n",
        "> Replace all TODOs with your code. Do not change any other code."
      ]
    },
    {
      "cell_type": "code",
      "execution_count": 1,
      "metadata": {
        "id": "bymolQyG6lVT"
      },
      "outputs": [],
      "source": [
        "# Do not edit this cell\n",
        "\n",
        "import numpy as np\n",
        "import pandas as pd"
      ]
    },
    {
      "cell_type": "markdown",
      "metadata": {
        "id": "Jz8SYjAz0N8D"
      },
      "source": [
        "## Numpy"
      ]
    },
    {
      "cell_type": "markdown",
      "metadata": {
        "id": "IHwd1Zzby7z1"
      },
      "source": [
        "### Task 1\n",
        "\n",
        "Create a 1D numpy array with elements [1, 2, 3, 4, 5]. Do it in two different ways.\n"
      ]
    },
    {
      "cell_type": "code",
      "execution_count": 2,
      "metadata": {
        "id": "UfB0dnXHy7z2",
        "tags": [
          "task_1a"
        ],
        "colab": {
          "base_uri": "https://localhost:8080/"
        },
        "outputId": "b427fc26-ef71-45db-9dbc-d095959fd012"
      },
      "outputs": [
        {
          "output_type": "stream",
          "name": "stdout",
          "text": [
            "[1 2 3 4 5]\n"
          ]
        }
      ],
      "source": [
        "res = np.array([1, 2, 3, 4, 5])\n",
        "\n",
        "print(res)"
      ]
    },
    {
      "cell_type": "code",
      "execution_count": 3,
      "metadata": {
        "id": "VtHGOji2zOfq",
        "tags": [
          "task_1b"
        ],
        "colab": {
          "base_uri": "https://localhost:8080/"
        },
        "outputId": "c2cd339e-bc0e-4197-9ee0-4fe9fb466074"
      },
      "outputs": [
        {
          "output_type": "stream",
          "name": "stdout",
          "text": [
            "[1 2 3 4 5]\n"
          ]
        }
      ],
      "source": [
        "res2 = res2 = np.arange(1, 6)\n",
        "\n",
        "print(res2)"
      ]
    },
    {
      "cell_type": "markdown",
      "metadata": {
        "id": "lL-ELM-Ay7z2"
      },
      "source": [
        "### Task 2\n",
        "\n",
        "Create a 2D numpy array with shape (3, 5) filled with random integers between 1 and 100."
      ]
    },
    {
      "cell_type": "code",
      "execution_count": 4,
      "metadata": {
        "id": "cibiSsjry7z3",
        "tags": [
          "task_2"
        ],
        "colab": {
          "base_uri": "https://localhost:8080/"
        },
        "outputId": "a18c7c46-b34c-4be5-cfed-9bc8c1fd06eb"
      },
      "outputs": [
        {
          "output_type": "stream",
          "name": "stdout",
          "text": [
            "[[29 67 98 59 95]\n",
            " [ 1 97 72 35 21]\n",
            " [59 26  9  1 53]]\n"
          ]
        }
      ],
      "source": [
        "res3 = np.random.randint(1, 101, size=(3, 5))\n",
        "\n",
        "print(res3)"
      ]
    },
    {
      "cell_type": "markdown",
      "metadata": {
        "id": "Iagg2Xez6lVk"
      },
      "source": [
        "### Task 3\n",
        "\n",
        "Print the first row of array `res3`."
      ]
    },
    {
      "cell_type": "code",
      "execution_count": 5,
      "metadata": {
        "tags": [
          "task_3"
        ],
        "id": "0Ug49s5l6lVm",
        "colab": {
          "base_uri": "https://localhost:8080/"
        },
        "outputId": "d9ad61a7-8235-4426-d3c3-63b997fa0268"
      },
      "outputs": [
        {
          "output_type": "stream",
          "name": "stdout",
          "text": [
            "[29 67 98 59 95]\n"
          ]
        }
      ],
      "source": [
        "print(res3[0])"
      ]
    },
    {
      "cell_type": "markdown",
      "metadata": {
        "id": "L-qS4zMn6lVn"
      },
      "source": [
        "### Task 4\n",
        "\n",
        "Access the last column of array `res3`. Assume that the array may be of any 2D shape."
      ]
    },
    {
      "cell_type": "code",
      "execution_count": 6,
      "metadata": {
        "tags": [
          "task_4"
        ],
        "id": "XLdVpV8P6lVo",
        "colab": {
          "base_uri": "https://localhost:8080/"
        },
        "outputId": "d39d6e0c-4e70-4af7-88a0-7f63bcbb51f3"
      },
      "outputs": [
        {
          "output_type": "stream",
          "name": "stdout",
          "text": [
            "[95 21 53]\n"
          ]
        }
      ],
      "source": [
        "print(res3[:, -1])"
      ]
    },
    {
      "cell_type": "markdown",
      "metadata": {
        "id": "saWNjvtKy7z3"
      },
      "source": [
        "### Task 5\n",
        "\n",
        "Find the min, max, and sum of elements of the second column of array `res3`."
      ]
    },
    {
      "cell_type": "code",
      "execution_count": 10,
      "metadata": {
        "id": "V0T9Dybqy7z3",
        "tags": [
          "task_5a"
        ],
        "colab": {
          "base_uri": "https://localhost:8080/"
        },
        "outputId": "91f88928-117b-4a4a-e65c-694388c5f393"
      },
      "outputs": [
        {
          "output_type": "stream",
          "name": "stdout",
          "text": [
            "min = 26\n"
          ]
        }
      ],
      "source": [
        "second_col = res3[:, 1]\n",
        "\n",
        "# Min\n",
        "res_min = np.min(second_col)\n",
        "\n",
        "print('min =', res_min)"
      ]
    },
    {
      "cell_type": "code",
      "execution_count": 11,
      "metadata": {
        "id": "cs5yNlMDy7z3",
        "tags": [
          "task_5b"
        ],
        "colab": {
          "base_uri": "https://localhost:8080/"
        },
        "outputId": "6c709714-a70a-4b33-a9c5-a34f90344607"
      },
      "outputs": [
        {
          "output_type": "stream",
          "name": "stdout",
          "text": [
            "max = 97\n"
          ]
        }
      ],
      "source": [
        "# Max\n",
        "res_max = np.max(second_col)\n",
        "\n",
        "print('max =', res_max)"
      ]
    },
    {
      "cell_type": "code",
      "execution_count": 12,
      "metadata": {
        "id": "iCRsMwrsy7z3",
        "tags": [
          "task_5c"
        ],
        "colab": {
          "base_uri": "https://localhost:8080/"
        },
        "outputId": "2916e3ca-ed85-4236-8a2c-def495424a6f"
      },
      "outputs": [
        {
          "output_type": "stream",
          "name": "stdout",
          "text": [
            "sum = 190\n"
          ]
        }
      ],
      "source": [
        "# Sum\n",
        "res_sum = np.sum(second_col)\n",
        "\n",
        "print('sum =', res_sum)"
      ]
    },
    {
      "cell_type": "markdown",
      "metadata": {
        "id": "r47KggVa6lVr"
      },
      "source": [
        "### Task 6\n",
        "\n",
        "Tabulate the function\n",
        "\n",
        "$$f(x) = e^{2x}$$\n",
        "\n",
        "on interval `[0, 1]` with step 0.1.\n",
        "\n",
        "By \"tabulate\" we mean that we want to have a table (1D array), where on the first position we will have the function value for 0, on the second position 0.1, and so on."
      ]
    },
    {
      "cell_type": "code",
      "execution_count": 19,
      "metadata": {
        "tags": [
          "task_6"
        ],
        "id": "hYvk0d3i6lVs",
        "colab": {
          "base_uri": "https://localhost:8080/"
        },
        "outputId": "113a3084-65f8-409d-aae6-2cb36543ee1e"
      },
      "outputs": [
        {
          "output_type": "stream",
          "name": "stdout",
          "text": [
            "[1.         1.22140276 1.4918247  1.8221188  2.22554093 2.71828183\n",
            " 3.32011692 4.05519997 4.95303242 6.04964746 7.3890561 ]\n"
          ]
        }
      ],
      "source": [
        "x = np.arange(0, 1.01, 0.1)\n",
        "\n",
        "f_x = np.exp(2 * x)\n",
        "\n",
        "print(f_x)"
      ]
    },
    {
      "cell_type": "markdown",
      "metadata": {
        "id": "5DzFkKwx0VI5"
      },
      "source": [
        "## Pandas\n",
        "\n",
        "We will be working on the classic dataset for beginner data scientists: Titanic passengers."
      ]
    },
    {
      "cell_type": "markdown",
      "metadata": {
        "id": "nP0LlORsy7z4"
      },
      "source": [
        "### Task 7\n",
        "\n",
        "Load the dataset from the following URL: https://web.stanford.edu/class/cs102/datasets/Titanic.csv"
      ]
    },
    {
      "cell_type": "code",
      "execution_count": 20,
      "metadata": {
        "id": "RiIm_kUSy7z4",
        "tags": [
          "task_7"
        ],
        "colab": {
          "base_uri": "https://localhost:8080/"
        },
        "outputId": "263f88ee-e22e-4f56-9bb2-f49c72ad68b0"
      },
      "outputs": [
        {
          "output_type": "stream",
          "name": "stdout",
          "text": [
            "        last                                       first gender   age  class  \\\n",
            "0     Braund                             Mr. Owen Harris      M  22.0      3   \n",
            "1    Cumings  Mrs. John Bradley (Florence Briggs Thayer)      F  38.0      1   \n",
            "2  Heikkinen                                  Miss Laina      F  26.0      3   \n",
            "3   Futrelle          Mrs. Jacques Heath (Lily May Peel)      F  35.0      1   \n",
            "4      Allen                           Mr. William Henry      M  35.0      3   \n",
            "\n",
            "      fare     embarked survived  \n",
            "0   7.2500  Southampton       no  \n",
            "1  71.2833    Cherbourg      yes  \n",
            "2   7.9250  Southampton      yes  \n",
            "3  53.1000  Southampton      yes  \n",
            "4   8.0500  Southampton       no  \n"
          ]
        }
      ],
      "source": [
        "url = \"https://web.stanford.edu/class/cs102/datasets/Titanic.csv\"\n",
        "df = pd.read_csv(url)\n",
        "\n",
        "print(df.head())"
      ]
    },
    {
      "cell_type": "markdown",
      "metadata": {
        "id": "hU1yDEnzy7z4"
      },
      "source": [
        "### Task 8\n",
        "\n",
        "Let's see the series/columns present in the data frame.\n",
        "\n",
        "Also, let's inspect the first ten rows of data."
      ]
    },
    {
      "cell_type": "code",
      "execution_count": 21,
      "metadata": {
        "id": "8sOSsdKiy7z4",
        "tags": [
          "task_8a"
        ],
        "colab": {
          "base_uri": "https://localhost:8080/"
        },
        "outputId": "0fa4b4de-04de-4fc7-ce90-9e46819608bb"
      },
      "outputs": [
        {
          "output_type": "stream",
          "name": "stdout",
          "text": [
            "Index(['last', 'first', 'gender', 'age', 'class', 'fare', 'embarked',\n",
            "       'survived'],\n",
            "      dtype='object')\n"
          ]
        }
      ],
      "source": [
        "print(df.columns)"
      ]
    },
    {
      "cell_type": "code",
      "execution_count": 22,
      "metadata": {
        "tags": [
          "task_8b"
        ],
        "id": "L1d6Yscd6lVu",
        "colab": {
          "base_uri": "https://localhost:8080/"
        },
        "outputId": "b275e37c-a047-4513-8c60-6ea26a9de268"
      },
      "outputs": [
        {
          "output_type": "stream",
          "name": "stdout",
          "text": [
            "        last                                       first gender   age  class  \\\n",
            "0     Braund                             Mr. Owen Harris      M  22.0      3   \n",
            "1    Cumings  Mrs. John Bradley (Florence Briggs Thayer)      F  38.0      1   \n",
            "2  Heikkinen                                  Miss Laina      F  26.0      3   \n",
            "3   Futrelle          Mrs. Jacques Heath (Lily May Peel)      F  35.0      1   \n",
            "4      Allen                           Mr. William Henry      M  35.0      3   \n",
            "5      Moran                                   Mr. James      M   NaN      3   \n",
            "6   McCarthy                               Mr. Timothy J      M  54.0      1   \n",
            "7    Palsson                        Master Gosta Leonard      M   2.0      3   \n",
            "8    Johnson    Mrs. Oscar W (Elisabeth Vilhelmina Berg)      F  27.0      3   \n",
            "9     Nasser                 Mrs. Nicholas (Adele Achem)      F  14.0      2   \n",
            "\n",
            "      fare     embarked survived  \n",
            "0   7.2500  Southampton       no  \n",
            "1  71.2833    Cherbourg      yes  \n",
            "2   7.9250  Southampton      yes  \n",
            "3  53.1000  Southampton      yes  \n",
            "4   8.0500  Southampton       no  \n",
            "5   8.4583   Queenstown       no  \n",
            "6  51.8625  Southampton       no  \n",
            "7  21.0750  Southampton       no  \n",
            "8  11.1333  Southampton      yes  \n",
            "9  30.0708    Cherbourg      yes  \n"
          ]
        }
      ],
      "source": [
        "print(df.head(10))"
      ]
    },
    {
      "cell_type": "markdown",
      "metadata": {
        "id": "NbbRIcyqy7z4"
      },
      "source": [
        "### Task 9\n",
        "\n",
        "Add a new column - full name - it should be a concat of the first and last name."
      ]
    },
    {
      "cell_type": "code",
      "execution_count": 27,
      "metadata": {
        "tags": [
          "task_9"
        ],
        "id": "DJcQPHU36lVv",
        "colab": {
          "base_uri": "https://localhost:8080/"
        },
        "outputId": "e85f7780-f1ff-4ba0-bc04-a3bd0d29fcd6"
      },
      "outputs": [
        {
          "output_type": "stream",
          "name": "stdout",
          "text": [
            "                                        first       last  \\\n",
            "0                             Mr. Owen Harris     Braund   \n",
            "1  Mrs. John Bradley (Florence Briggs Thayer)    Cumings   \n",
            "2                                  Miss Laina  Heikkinen   \n",
            "3          Mrs. Jacques Heath (Lily May Peel)   Futrelle   \n",
            "4                           Mr. William Henry      Allen   \n",
            "5                                   Mr. James      Moran   \n",
            "6                               Mr. Timothy J   McCarthy   \n",
            "7                        Master Gosta Leonard    Palsson   \n",
            "8    Mrs. Oscar W (Elisabeth Vilhelmina Berg)    Johnson   \n",
            "9                 Mrs. Nicholas (Adele Achem)     Nasser   \n",
            "\n",
            "                                            fullname  \n",
            "0                             Mr. Owen Harris Braund  \n",
            "1  Mrs. John Bradley (Florence Briggs Thayer) Cum...  \n",
            "2                               Miss Laina Heikkinen  \n",
            "3        Mrs. Jacques Heath (Lily May Peel) Futrelle  \n",
            "4                            Mr. William Henry Allen  \n",
            "5                                    Mr. James Moran  \n",
            "6                             Mr. Timothy J McCarthy  \n",
            "7                       Master Gosta Leonard Palsson  \n",
            "8   Mrs. Oscar W (Elisabeth Vilhelmina Berg) Johnson  \n",
            "9                 Mrs. Nicholas (Adele Achem) Nasser  \n"
          ]
        }
      ],
      "source": [
        "df[\"fullname\"] = df[\"first\"] + \" \" + df[\"last\"]\n",
        "\n",
        "print(df[[\"first\", \"last\", \"fullname\"]].head(10))"
      ]
    },
    {
      "cell_type": "markdown",
      "metadata": {
        "id": "UvRSBhXi6lVw"
      },
      "source": [
        "### Task 10\n",
        "\n",
        "Remove the two original columns - last, first."
      ]
    },
    {
      "cell_type": "code",
      "execution_count": 28,
      "metadata": {
        "id": "2K8klEkzy7z4",
        "tags": [
          "task_10"
        ],
        "colab": {
          "base_uri": "https://localhost:8080/"
        },
        "outputId": "de158b07-5d58-421c-ac0f-09ba6a9d4a3c"
      },
      "outputs": [
        {
          "output_type": "stream",
          "name": "stdout",
          "text": [
            "  gender   age  class     fare     embarked survived  \\\n",
            "0      M  22.0      3   7.2500  Southampton       no   \n",
            "1      F  38.0      1  71.2833    Cherbourg      yes   \n",
            "2      F  26.0      3   7.9250  Southampton      yes   \n",
            "3      F  35.0      1  53.1000  Southampton      yes   \n",
            "4      M  35.0      3   8.0500  Southampton       no   \n",
            "\n",
            "                                            FullName  \\\n",
            "0                             Mr. Owen Harris Braund   \n",
            "1  Mrs. John Bradley (Florence Briggs Thayer) Cum...   \n",
            "2                               Miss Laina Heikkinen   \n",
            "3        Mrs. Jacques Heath (Lily May Peel) Futrelle   \n",
            "4                            Mr. William Henry Allen   \n",
            "\n",
            "                                            fullname  \n",
            "0                             Mr. Owen Harris Braund  \n",
            "1  Mrs. John Bradley (Florence Briggs Thayer) Cum...  \n",
            "2                               Miss Laina Heikkinen  \n",
            "3        Mrs. Jacques Heath (Lily May Peel) Futrelle  \n",
            "4                            Mr. William Henry Allen  \n"
          ]
        }
      ],
      "source": [
        "df = df.drop(columns=[\"first\", \"last\"])\n",
        "\n",
        "print(df.head())"
      ]
    },
    {
      "cell_type": "markdown",
      "metadata": {
        "id": "A431RdWp6lVw"
      },
      "source": [
        "### Task 11\n",
        "\n",
        "Calculate the total number of survivors in the dataset."
      ]
    },
    {
      "cell_type": "code",
      "execution_count": 32,
      "metadata": {
        "tags": [
          "task_11"
        ],
        "id": "meTLWpz46lVx",
        "colab": {
          "base_uri": "https://localhost:8080/"
        },
        "outputId": "19afb635-cb26-4163-e6dc-f04ae047a43b"
      },
      "outputs": [
        {
          "output_type": "stream",
          "name": "stdout",
          "text": [
            "Total survivors = 342\n"
          ]
        }
      ],
      "source": [
        "total_survivors = (df[\"survived\"] == \"yes\").sum()\n",
        "\n",
        "print(\"Total survivors =\", total_survivors)"
      ]
    }
  ],
  "metadata": {
    "colab": {
      "provenance": [],
      "toc_visible": true,
      "include_colab_link": true
    },
    "kernelspec": {
      "display_name": "venv",
      "language": "python",
      "name": "python3"
    },
    "language_info": {
      "codemirror_mode": {
        "name": "ipython",
        "version": 3
      },
      "file_extension": ".py",
      "mimetype": "text/x-python",
      "name": "python",
      "nbconvert_exporter": "python",
      "pygments_lexer": "ipython3",
      "version": "3.9.6"
    },
    "orig_nbformat": 4
  },
  "nbformat": 4,
  "nbformat_minor": 0
}