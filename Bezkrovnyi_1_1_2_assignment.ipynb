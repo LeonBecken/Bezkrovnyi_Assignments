{
  "cells": [
    {
      "cell_type": "markdown",
      "metadata": {
        "id": "view-in-github",
        "colab_type": "text"
      },
      "source": [
        "<a href=\"https://colab.research.google.com/github/LeonBecken/Bezkrovnyi_Assignments/blob/main/Bezkrovnyi_1_1_2_assignment.ipynb\" target=\"_parent\"><img src=\"https://colab.research.google.com/assets/colab-badge.svg\" alt=\"Open In Colab\"/></a>"
      ]
    },
    {
      "cell_type": "markdown",
      "metadata": {
        "id": "oY7M_WqQy7zz"
      },
      "source": [
        "# Assignment 1.1\n",
        "\n",
        "> Replace all TODOs with your code. Do not change any other code."
      ]
    },
    {
      "cell_type": "markdown",
      "metadata": {
        "id": "Jz8SYjAz0N8D"
      },
      "source": [
        "## Basics"
      ]
    },
    {
      "cell_type": "markdown",
      "metadata": {
        "id": "IHwd1Zzby7z1"
      },
      "source": [
        "### Task 1\n",
        "\n",
        "a. Write a program that prints the number 10.\n",
        "\n",
        "b. Declare another variable `res2` with value 10. Print IDs of both.\n",
        "\n",
        "c. Declare two other variables with the value 10000. Print IDs of both."
      ]
    },
    {
      "cell_type": "code",
      "execution_count": 1,
      "metadata": {
        "id": "UfB0dnXHy7z2",
        "tags": [
          "task_1a"
        ],
        "colab": {
          "base_uri": "https://localhost:8080/"
        },
        "outputId": "90b02359-4857-45dd-e0e5-a4faf412592c"
      },
      "outputs": [
        {
          "output_type": "stream",
          "name": "stdout",
          "text": [
            "10\n"
          ]
        }
      ],
      "source": [
        "# TODO a\n",
        "\n",
        "res = 10\n",
        "\n",
        "print(res)"
      ]
    },
    {
      "cell_type": "code",
      "execution_count": 3,
      "metadata": {
        "id": "VtHGOji2zOfq",
        "tags": [
          "task_1b"
        ],
        "colab": {
          "base_uri": "https://localhost:8080/"
        },
        "outputId": "01ff4117-22ce-45a7-94e7-01b7feaaa4d6"
      },
      "outputs": [
        {
          "output_type": "stream",
          "name": "stdout",
          "text": [
            "10758024 10758024\n"
          ]
        }
      ],
      "source": [
        "# TODO b\n",
        "res = 10\n",
        "res2 = 10\n",
        "\n",
        "print(id(res), id(res2))"
      ]
    },
    {
      "cell_type": "code",
      "execution_count": 5,
      "metadata": {
        "id": "c-ca4slRzO92",
        "tags": [
          "task_1c"
        ],
        "colab": {
          "base_uri": "https://localhost:8080/"
        },
        "outputId": "84f3813f-aa33-4680-d859-4c18e5187c80"
      },
      "outputs": [
        {
          "output_type": "stream",
          "name": "stdout",
          "text": [
            "138096263271760 138096263281616\n"
          ]
        }
      ],
      "source": [
        "# TODO c\n",
        "a = 100000\n",
        "b = 100000\n",
        "print(id(a), id(b))"
      ]
    },
    {
      "cell_type": "markdown",
      "metadata": {
        "id": "lL-ELM-Ay7z2"
      },
      "source": [
        "### Task 2\n",
        "\n",
        "Now, write a program that gets a name from a user and prints \"Hello, <name>\"."
      ]
    },
    {
      "cell_type": "code",
      "execution_count": null,
      "metadata": {
        "id": "cibiSsjry7z3",
        "tags": [
          "task_2"
        ]
      },
      "outputs": [],
      "source": [
        "name = input(\"Diana\")\n",
        "\n",
        "print('Hello,', name)"
      ]
    },
    {
      "cell_type": "markdown",
      "metadata": {
        "id": "oGnwHD6h0SVW"
      },
      "source": [
        "## Variables"
      ]
    },
    {
      "cell_type": "markdown",
      "metadata": {
        "id": "saWNjvtKy7z3"
      },
      "source": [
        "### Task 3\n",
        "\n",
        "Write a program that gets two int variables and swaps their values. Do it in 3 different ways."
      ]
    },
    {
      "cell_type": "code",
      "execution_count": 14,
      "metadata": {
        "id": "V0T9Dybqy7z3",
        "tags": [
          "task_4a"
        ],
        "colab": {
          "base_uri": "https://localhost:8080/"
        },
        "outputId": "0dd93892-7bb6-40bd-9ecf-762a394e214d"
      },
      "outputs": [
        {
          "output_type": "stream",
          "name": "stdout",
          "text": [
            "Option 1\n",
            "a = 5 b = 3\n"
          ]
        }
      ],
      "source": [
        "print('Option 1')\n",
        "a = 3\n",
        "b = 5\n",
        "\n",
        "temp = a\n",
        "a = b\n",
        "b = temp\n",
        "\n",
        "print('a =', a, 'b =', b)  # should print \"a = 5 b = 3\""
      ]
    },
    {
      "cell_type": "code",
      "execution_count": 15,
      "metadata": {
        "id": "cs5yNlMDy7z3",
        "tags": [
          "task_4b"
        ],
        "colab": {
          "base_uri": "https://localhost:8080/"
        },
        "outputId": "ab0ac4b6-b3af-46ae-d72e-bcf598448614"
      },
      "outputs": [
        {
          "output_type": "stream",
          "name": "stdout",
          "text": [
            "Option 2\n",
            "a = 5 b = 3\n"
          ]
        }
      ],
      "source": [
        "print('Option 2')\n",
        "a = 3\n",
        "b = 5\n",
        "\n",
        "a, b = b, a\n",
        "\n",
        "print('a =', a, 'b =', b)  # should print \"a = 5 b = 3\""
      ]
    },
    {
      "cell_type": "code",
      "execution_count": 16,
      "metadata": {
        "id": "iCRsMwrsy7z3",
        "tags": [
          "task_4c"
        ],
        "colab": {
          "base_uri": "https://localhost:8080/"
        },
        "outputId": "900ece06-32b6-4964-d9c2-e98571ea6e7b"
      },
      "outputs": [
        {
          "output_type": "stream",
          "name": "stdout",
          "text": [
            "Option 3\n",
            "a = 5 b = 3\n"
          ]
        }
      ],
      "source": [
        "print('Option 3')\n",
        "a = 3\n",
        "b = 5\n",
        "\n",
        "a = a + b\n",
        "b = a - b\n",
        "a = a - b\n",
        "\n",
        "print('a =', a, 'b =', b)  # should print \"a = 5 b = 3\""
      ]
    },
    {
      "cell_type": "markdown",
      "metadata": {
        "id": "5DzFkKwx0VI5"
      },
      "source": [
        "## Numbers"
      ]
    },
    {
      "cell_type": "markdown",
      "metadata": {
        "id": "nP0LlORsy7z4"
      },
      "source": [
        "### Task 4\n",
        "\n",
        "Write a program that gets two numbers from the user. Print to the console the maximum of these two variables."
      ]
    },
    {
      "cell_type": "code",
      "execution_count": 18,
      "metadata": {
        "id": "RiIm_kUSy7z4",
        "tags": [
          "task_5"
        ],
        "colab": {
          "base_uri": "https://localhost:8080/"
        },
        "outputId": "60482878-dec5-4bac-ba15-489ada54d543"
      },
      "outputs": [
        {
          "output_type": "stream",
          "name": "stdout",
          "text": [
            "res = 8\n"
          ]
        }
      ],
      "source": [
        "a = 5\n",
        "b = 8\n",
        "\n",
        "res = max(a, b)\n",
        "\n",
        "print('res =', res)"
      ]
    },
    {
      "cell_type": "markdown",
      "metadata": {
        "id": "hU1yDEnzy7z4"
      },
      "source": [
        "### Task 5\n",
        "\n",
        "You have two variables, `x1` and `x2`. Complete the program that calculates the following function:\n",
        "\n",
        "$$ f(x_1, x_2) = x_1 ^ {\\frac{x_2 - 1}{2}} $$"
      ]
    },
    {
      "cell_type": "code",
      "execution_count": null,
      "metadata": {
        "id": "8sOSsdKiy7z4",
        "tags": [
          "task_6"
        ]
      },
      "outputs": [],
      "source": [
        "x1 = 10\n",
        "x2 = 5\n",
        "\n",
        "res = # TODO\n",
        "\n",
        "print('res =', res)  # should be 100.0"
      ]
    },
    {
      "cell_type": "markdown",
      "metadata": {
        "id": "NbbRIcyqy7z4"
      },
      "source": [
        "### Task 6 (optional)\n",
        "\n",
        "You have a variable `x`, always a two-digit number (e.g., `10` or `57`). Complete the program that gets the last digit of this number (e.g., `10 -> 0`, `57 -> 7`)."
      ]
    },
    {
      "cell_type": "code",
      "execution_count": null,
      "metadata": {
        "id": "2K8klEkzy7z4",
        "tags": [
          "task_7"
        ]
      },
      "outputs": [],
      "source": [
        "x = 57\n",
        "\n",
        "res = # TODO\n",
        "\n",
        "print('res =', res)  # should be 7"
      ]
    }
  ],
  "metadata": {
    "colab": {
      "provenance": [],
      "include_colab_link": true
    },
    "kernelspec": {
      "display_name": "venv",
      "language": "python",
      "name": "python3"
    },
    "language_info": {
      "codemirror_mode": {
        "name": "ipython",
        "version": 3
      },
      "file_extension": ".py",
      "mimetype": "text/x-python",
      "name": "python",
      "nbconvert_exporter": "python",
      "pygments_lexer": "ipython3",
      "version": "3.9.6"
    },
    "orig_nbformat": 4
  },
  "nbformat": 4,
  "nbformat_minor": 0
}