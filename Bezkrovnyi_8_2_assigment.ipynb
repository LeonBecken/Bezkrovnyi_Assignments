{
  "cells": [
    {
      "cell_type": "markdown",
      "metadata": {
        "id": "view-in-github",
        "colab_type": "text"
      },
      "source": [
        "<a href=\"https://colab.research.google.com/github/LeonBecken/Bezkrovnyi_Assignments/blob/main/Bezkrovnyi_8_2_assigment.ipynb\" target=\"_parent\"><img src=\"https://colab.research.google.com/assets/colab-badge.svg\" alt=\"Open In Colab\"/></a>"
      ]
    },
    {
      "cell_type": "markdown",
      "metadata": {
        "id": "ozOVKEIKm8aP"
      },
      "source": [
        "# Assignment 8.2\n",
        "\n",
        "> Replace all TODOs with your code.\n",
        ">\n",
        "> Do not change any other code and do not add/remove cells!"
      ]
    },
    {
      "cell_type": "markdown",
      "metadata": {
        "id": "GRPST61knD1_"
      },
      "source": [
        "## Inheritance"
      ]
    },
    {
      "cell_type": "markdown",
      "metadata": {
        "id": "TIeo4PGfnH_f"
      },
      "source": [
        "### Task 1\n",
        "\n",
        "Define a base class named `Account` to a general bank account.\n",
        "\n",
        "The class should include an initialization method (`__init__`), taking into account the number and holder name and methods for depositing money to the account and withdrawing from it. Do not forget to ensure that the account never has a negative balance.\n",
        "\n",
        "String representation (`__str__`) should be an abstract method (throw a corresponding error if it is called on the base `Account` class"
      ]
    },
    {
      "cell_type": "code",
      "execution_count": 1,
      "metadata": {
        "id": "es4kM6panjNB"
      },
      "outputs": [],
      "source": [
        "class Account:\n",
        "    def __init__(self, number: str, holder: str):\n",
        "        self.number = number\n",
        "        self.holder = holder\n",
        "        self.balance = 0.0\n",
        "\n",
        "    def deposit(self, amount: float):\n",
        "        if amount <= 0:\n",
        "            raise ValueError(\"Deposit amount must be positive\")\n",
        "        self.balance += amount\n",
        "\n",
        "    def withdraw(self, amount: float):\n",
        "        if amount <= 0:\n",
        "            raise ValueError(\"Withdrawal amount must be positive\")\n",
        "        if self.balance - amount < 0:\n",
        "            raise ValueError(\"Insufficient funds\")\n",
        "        self.balance -= amount\n",
        "\n",
        "    def __str__(self):\n",
        "        raise NotImplementedError(\"This method should be implemented in subclasses\")\n"
      ]
    },
    {
      "cell_type": "markdown",
      "metadata": {
        "id": "4FjqIBbCnqh3"
      },
      "source": [
        "### Task 2\n",
        "\n",
        "Derive a `CurrentAccount` subclass from the `Account` base class and provide its own implementation for the `__str__` method. The text representation should mention the type of account, account number, and remaining balance."
      ]
    },
    {
      "cell_type": "code",
      "execution_count": 2,
      "metadata": {
        "id": "VNhS9FjCr-_k"
      },
      "outputs": [],
      "source": [
        "class CurrentAccount(Account):\n",
        "    def __str__(self):\n",
        "        return f\"CurrentAccount [Number: {self.number}, Holder: {self.holder}, Balance: {self.balance:.2f}]\""
      ]
    },
    {
      "cell_type": "markdown",
      "metadata": {
        "id": "h-CdQzoOtjy6"
      },
      "source": [
        "### Task 3\n",
        "\n",
        "Derive a `SavingsAccount` subclass from the `Account` base class and provide its implementation for the `__str__` method. When initializing objects of this class, the caller must provide the `interest_rate` parameter.\n",
        "\n",
        " The text representation should mention the type of account, interest rate, account number, and remaining balance.\n",
        "\n",
        "Provide additional method `add_interest` that adds interest based on `interest_rate`:\n",
        "$$new\\_balance = old\\_balance + old\\_balance * interest\\_rate$$"
      ]
    },
    {
      "cell_type": "code",
      "execution_count": 3,
      "metadata": {
        "id": "akQXzV_vtweO"
      },
      "outputs": [],
      "source": [
        "class SavingsAccount(Account):\n",
        "    def __init__(self, number: str, holder: str, interest_rate: float):\n",
        "        super().__init__(number, holder)\n",
        "        self.interest_rate = interest_rate\n",
        "\n",
        "    def add_interest(self):\n",
        "        self.balance += self.balance * self.interest_rate\n",
        "\n",
        "    def __str__(self):\n",
        "        return (f\"SavingsAccount [Number: {self.number}, Holder: {self.holder}, \"\n",
        "                f\"Interest Rate: {self.interest_rate:.2%}, Balance: {self.balance:.2f}]\")\n"
      ]
    },
    {
      "cell_type": "markdown",
      "metadata": {
        "id": "724_WyJry8i9"
      },
      "source": [
        "### Task 4\n",
        "\n",
        "Create an array with different accounts, add/withdraw money from some of them, iterate over the array, and print the text representation of each."
      ]
    },
    {
      "cell_type": "code",
      "execution_count": 4,
      "metadata": {
        "id": "BDZA3L25zZEo",
        "colab": {
          "base_uri": "https://localhost:8080/"
        },
        "outputId": "359e883e-a0a6-4dc5-d23b-a8bdcba49604"
      },
      "outputs": [
        {
          "output_type": "stream",
          "name": "stdout",
          "text": [
            "CurrentAccount [Number: 11111, Holder: John Doe, Balance: 350.00]\n",
            "SavingsAccount [Number: 22222, Holder: Alice, Interest Rate: 3.00%, Balance: 1030.00]\n",
            "SavingsAccount [Number: 33333, Holder: Bob, Interest Rate: 5.00%, Balance: 157.50]\n"
          ]
        }
      ],
      "source": [
        "accounts = []\n",
        "\n",
        "# Створюємо різні рахунки\n",
        "acc1 = CurrentAccount(\"11111\", \"John Doe\")\n",
        "acc2 = SavingsAccount(\"22222\", \"Alice\", 0.03)  # 3% ставка\n",
        "acc3 = SavingsAccount(\"33333\", \"Bob\", 0.05)    # 5% ставка\n",
        "\n",
        "# Додаємо у список\n",
        "accounts.append(acc1)\n",
        "accounts.append(acc2)\n",
        "accounts.append(acc3)\n",
        "\n",
        "# Операції з рахунками\n",
        "acc1.deposit(500)\n",
        "acc1.withdraw(150)\n",
        "\n",
        "acc2.deposit(1000)\n",
        "acc2.add_interest()\n",
        "\n",
        "acc3.deposit(200)\n",
        "acc3.withdraw(50)\n",
        "acc3.add_interest()\n",
        "\n",
        "for account in accounts:\n",
        "    print(account)"
      ]
    }
  ],
  "metadata": {
    "colab": {
      "provenance": [],
      "toc_visible": true,
      "include_colab_link": true
    },
    "kernelspec": {
      "display_name": "Python 3",
      "name": "python3"
    },
    "language_info": {
      "name": "python"
    }
  },
  "nbformat": 4,
  "nbformat_minor": 0
}