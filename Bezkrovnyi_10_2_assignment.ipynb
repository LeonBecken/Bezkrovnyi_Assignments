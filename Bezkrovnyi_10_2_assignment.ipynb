{
  "cells": [
    {
      "cell_type": "markdown",
      "metadata": {
        "id": "view-in-github",
        "colab_type": "text"
      },
      "source": [
        "<a href=\"https://colab.research.google.com/github/LeonBecken/Bezkrovnyi_Assignments/blob/main/Bezkrovnyi_10_2_assignment.ipynb\" target=\"_parent\"><img src=\"https://colab.research.google.com/assets/colab-badge.svg\" alt=\"Open In Colab\"/></a>"
      ]
    },
    {
      "cell_type": "markdown",
      "metadata": {
        "id": "oY7M_WqQy7zz"
      },
      "source": [
        "# Assignment 10.2\n",
        "\n",
        "> Replace all TODOs with your code. Do not change any other code."
      ]
    },
    {
      "cell_type": "code",
      "execution_count": 5,
      "metadata": {
        "id": "DCZ2nU3KCFyk"
      },
      "outputs": [],
      "source": [
        "# Do not edit this cell\n",
        "\n",
        "import csv\n",
        "import unittest\n"
      ]
    },
    {
      "cell_type": "markdown",
      "metadata": {
        "id": "Jz8SYjAz0N8D"
      },
      "source": [
        "## Clean code"
      ]
    },
    {
      "cell_type": "markdown",
      "metadata": {
        "id": "IHwd1Zzby7z1"
      },
      "source": [
        "### Task 1\n",
        "\n",
        "You are given a function that reads a csv file with temperature measurements (see example below), converts Fahrenheit values to Celsius, calculates and prints some statistics, and writes to another file. It looks a bit messy, let's clean it up!\n",
        "\n",
        "Example file:\n",
        "```csv\n",
        "Temperature (F)\n",
        "78.5\n",
        "81.2\n",
        "75.9\n",
        "82.1\n",
        "```\n",
        "\n",
        "Do the steps below one by one, editing the code in the cell:\n",
        "1. Naming is so ambiguous and unclear, let's rename variables and function name with proper names.\n",
        "2. Are these comments really useful?\n",
        "3. This function does quite a lot, let's divide it in the way that each function does only one thing, and there's one main function that uses others.\n",
        "4. There seem to be some magic coefficients in the temperature conversion part; let's make them obvious.\n",
        "\n",
        "If you find any additional improvements, feel free to implement them and leave a comment under your code with an explanation."
      ]
    },
    {
      "cell_type": "code",
      "execution_count": 6,
      "metadata": {
        "tags": [
          "task_1"
        ],
        "id": "uBoo2azsCFyv",
        "colab": {
          "base_uri": "https://localhost:8080/",
          "height": 69
        },
        "outputId": "f6386cdc-2c52-4218-9dc9-e0239efe9442"
      },
      "outputs": [
        {
          "output_type": "execute_result",
          "data": {
            "text/plain": [
              "'\\nПокращення, які були внесені:\\n1. Змінено імена функцій та змінних на більш зрозумілі.\\n2. Поділено велику функцію на кілька менших, кожна виконує одну дію.\\n3. Додано константи для конвертації температур (щоб уникнути \"магічних чисел\").\\n4. Додано докстрінги (короткі описи функцій).\\n5. Код став більш читабельним і легким для тестування та повторного використання\\n'"
            ],
            "application/vnd.google.colaboratory.intrinsic+json": {
              "type": "string"
            }
          },
          "metadata": {},
          "execution_count": 6
        }
      ],
      "source": [
        "# Константи для переведення температури з Фаренгейта у Цельсій\n",
        "FAHRENHEIT_OFFSET = 32\n",
        "FAHRENHEIT_TO_CELSIUS = 5 / 9\n",
        "\n",
        "\n",
        "def read_fahrenheit_values(input_file):\n",
        "    \"\"\"Зчитує значення температур у Фаренгейтах з CSV і повертає їх у вигляді списку\"\"\"\n",
        "    temperatures = []\n",
        "    with open(input_file, 'r') as file:\n",
        "        reader = csv.reader(file)\n",
        "        next(reader)  # Пропускаємо заголовок\n",
        "        for row in reader:\n",
        "            temperatures.append(float(row[0]))\n",
        "    return temperatures\n",
        "\n",
        "\n",
        "def convert_to_celsius(fahrenheit_values):\n",
        "    \"\"\"Конвертує список температур з Фаренгейта у Цельсій\"\"\"\n",
        "    return [(f - FAHRENHEIT_OFFSET) * FAHRENHEIT_TO_CELSIUS for f in fahrenheit_values]\n",
        "\n",
        "\n",
        "def calculate_statistics(values):\n",
        "    \"\"\"Обчислює середнє, мінімальне та максимальне значення зі списку чисел\"\"\"\n",
        "    if not values:\n",
        "        return None  # Якщо список порожній — повертаємо None\n",
        "    return {\n",
        "        'average': sum(values) / len(values),\n",
        "        'min': min(values),\n",
        "        'max': max(values)\n",
        "    }\n",
        "\n",
        "\n",
        "def write_celsius_to_csv(celsius_values, output_file):\n",
        "    \"\"\"Записує значення температур у Цельсіях у CSV-файл\"\"\"\n",
        "    with open(output_file, 'w', newline='') as file:\n",
        "        writer = csv.writer(file)\n",
        "        writer.writerow(['Temperature (C)'])  # Заголовок стовпця\n",
        "        for value in celsius_values:\n",
        "            writer.writerow([value])  # Кожне значення — окремий рядок\n",
        "\n",
        "\n",
        "def process_temperature_data(input_file, output_file):\n",
        "    \"\"\"Головна функція: читає, конвертує, обчислює статистику та записує результат\"\"\"\n",
        "    fahrenheit_values = read_fahrenheit_values(input_file)\n",
        "    celsius_values = convert_to_celsius(fahrenheit_values)\n",
        "    stats = calculate_statistics(celsius_values)\n",
        "\n",
        "    print(\"Статистика температур:\")\n",
        "    print(\"Середня: {:.2f}°C\".format(stats['average']))\n",
        "    print(\"Мінімальна: {:.2f}°C\".format(stats['min']))\n",
        "    print(\"Максимальна: {:.2f}°C\".format(stats['max']))\n",
        "\n",
        "    write_celsius_to_csv(celsius_values, output_file)\n",
        "    return stats\n",
        "\n",
        "\"\"\"\n",
        "Покращення, які були внесені:\n",
        "1. Змінено імена функцій та змінних на більш зрозумілі.\n",
        "2. Поділено велику функцію на кілька менших, кожна виконує одну дію.\n",
        "3. Додано константи для конвертації температур (щоб уникнути \"магічних чисел\").\n",
        "4. Додано докстрінги (короткі описи функцій).\n",
        "5. Код став більш читабельним і легким для тестування та повторного використання\n",
        "\"\"\""
      ]
    },
    {
      "cell_type": "markdown",
      "metadata": {
        "id": "lL-ELM-Ay7z2"
      },
      "source": [
        "### Task 2\n",
        "\n",
        "How would you write tests for the initial implementation? What exactly would you test in the function?\n",
        "\n",
        "I hope you see now that once functionality is separated, it's easier to test it in isolation. So, let's write a couple of unit tests for your function and one integration test for your main function.\n",
        "\n",
        "Hint: you would probably want to mock reading from/writing to file to make the test independent from the environment."
      ]
    },
    {
      "cell_type": "code",
      "execution_count": 9,
      "metadata": {
        "id": "cibiSsjry7z3",
        "tags": [
          "task_2"
        ]
      },
      "outputs": [],
      "source": [
        "import io\n",
        "from unittest.mock import mock_open, patch, MagicMock\n",
        "\n",
        "# Імпортуємо функції з модуля (заміни 'temp_module' на реальну назву файлу без .py)\n",
        "# from temp_module import (\n",
        "#     read_fahrenheit_values,\n",
        "#     convert_to_celsius,\n",
        "#     calculate_statistics,\n",
        "#     write_celsius_to_csv,\n",
        "#     process_temperature_data,\n",
        "# )\n",
        "\n",
        "class UnitTestCase(unittest.TestCase):\n",
        "    \"\"\"Юніт-тести: перевіряємо маленькі, ізольовані частини логіки.\"\"\"\n",
        "\n",
        "    def test_convert_to_celsius_simple(self):\n",
        "        # Перевіряємо правильність формули конвертації\n",
        "        from math import isclose\n",
        "        from temp_module import convert_to_celsius  # імпортуємо з модуля\n",
        "\n",
        "        fahrenheit = [32.0, 50.0, 68.0, 77.0]  # 0, 10, 20, 25 °C\n",
        "        expected = [0.0, 10.0, 20.0, 25.0]\n",
        "        result = convert_to_celsius(fahrenheit)\n",
        "        self.assertEqual(len(result), len(expected))\n",
        "        for r, e in zip(result, expected):\n",
        "            self.assertTrue(isclose(r, e, rel_tol=1e-9, abs_tol=1e-9))\n",
        "\n",
        "    def test_calculate_statistics_normal(self):\n",
        "        # Перевіряємо середнє/мін/макс\n",
        "        from temp_module import calculate_statistics\n",
        "\n",
        "        values = [0.0, 10.0, 20.0, 25.0]\n",
        "        stats = calculate_statistics(values)\n",
        "        self.assertIsInstance(stats, dict)\n",
        "        self.assertAlmostEqual(stats[\"average\"], sum(values) / len(values), places=9)\n",
        "        self.assertEqual(stats[\"min\"], 0.0)\n",
        "        self.assertEqual(stats[\"max\"], 25.0)\n",
        "\n",
        "    def test_calculate_statistics_empty(self):\n",
        "        # Порожній список — повертаємо None (захист від помилок)\n",
        "        from temp_module import calculate_statistics\n",
        "\n",
        "        self.assertIsNone(calculate_statistics([]))\n",
        "\n",
        "    def test_read_fahrenheit_values(self):\n",
        "        # Мокуємо читання CSV: без залежності від файлової системи\n",
        "        from temp_module import read_fahrenheit_values\n",
        "\n",
        "        csv_data = \"Temperature (F)\\n78.5\\n81.2\\n75.9\\n\"\n",
        "        with patch(\"builtins.open\", mock_open(read_data=csv_data)):\n",
        "            values = read_fahrenheit_values(\"input.csv\")\n",
        "        self.assertEqual(values, [78.5, 81.2, 75.9])\n",
        "\n",
        "    def test_write_celsius_to_csv(self):\n",
        "        # Перевіряємо запис: підміняємо csv.writer, щоб фіксувати рядки\n",
        "        from temp_module import write_celsius_to_csv\n",
        "\n",
        "        captured_rows = []\n",
        "\n",
        "        class DummyWriter:\n",
        "            def writerow(self, row):\n",
        "                captured_rows.append(row)\n",
        "\n",
        "        m = mock_open()\n",
        "        with patch(\"builtins.open\", m):\n",
        "            with patch(\"csv.writer\", return_value=DummyWriter()) as writer_mock:\n",
        "                write_celsius_to_csv([0.0, 10.0, 20.0], \"out.csv\")\n",
        "\n",
        "        # Перевіряємо, що спочатку заголовок, далі значення\n",
        "        self.assertGreaterEqual(len(captured_rows), 4)\n",
        "        self.assertEqual(captured_rows[0], [\"Temperature (C)\"])\n",
        "        self.assertEqual(captured_rows[1], [0.0])\n",
        "        self.assertEqual(captured_rows[2], [10.0])\n",
        "        self.assertEqual(captured_rows[3], [20.0])\n",
        "\n",
        "\n",
        "class IntegrationTestCase(unittest.TestCase):\n",
        "    \"\"\"Інтеграційний тест: перевіряємо, що весь пайплайн працює разом\"\"\"\n",
        "\n",
        "    def test_process_temperature_data_end_to_end(self):\n",
        "        \"\"\"\n",
        "        Будуємо «фейкове» вхідне CSV, перевіряємо:\n",
        "        1) друк статистики у stdout\n",
        "        2) повернуті stats\n",
        "        3) рядки, які були б записані у вихідний CSV\n",
        "        from temp_module import process_temperature_data\n",
        "        \"\"\"\n",
        "\n",
        "        input_csv = \"Temperature (F)\\n78.5\\n81.2\\n75.9\\n82.1\\n\"\n",
        "\n",
        "        # Підміняємо open для читання і запису\n",
        "        m = mock_open(read_data=input_csv)\n",
        "\n",
        "        captured_rows = []\n",
        "\n",
        "        class DummyWriter:\n",
        "            def writerow(self, row):\n",
        "                captured_rows.append(row)\n",
        "\n",
        "        # Захоплюємо stdout, щоб перевірити надруковану статистику\n",
        "        fake_stdout = io.StringIO()\n",
        "\n",
        "        with patch(\"builtins.open\", m):\n",
        "            with patch(\"csv.writer\", return_value=DummyWriter()):\n",
        "                with patch(\"sys.stdout\", fake_stdout):\n",
        "                    stats = process_temperature_data(\"in.csv\", \"out.csv\")\n",
        "\n",
        "        # 1) Статистика роздрукована\n",
        "        out = fake_stdout.getvalue()\n",
        "        self.assertIn(\"Статистика температур:\", out)\n",
        "        self.assertIn(\"Середня:\", out)\n",
        "        self.assertIn(\"Мінімальна:\", out)\n",
        "        self.assertIn(\"Максимальна:\", out)\n",
        "\n",
        "        # 2) Статистика повернена як словник з потрібними ключами\n",
        "        self.assertIsInstance(stats, dict)\n",
        "        for k in (\"average\", \"min\", \"max\"):\n",
        "            self.assertIn(k, stats)\n",
        "\n",
        "        # 3) У вихідний CSV записано заголовок і всі конвертовані значення\n",
        "        self.assertGreaterEqual(len(captured_rows), 1 + 4)\n",
        "        self.assertEqual(captured_rows[0], [\"Temperature (C)\"])\n",
        "\n",
        "        # Контрольне перетворення для порівняння\n",
        "        expected_c = [ (78.5 - 32) * 5/9,\n",
        "                       (81.2 - 32) * 5/9,\n",
        "                       (75.9 - 32) * 5/9,\n",
        "                       (82.1 - 32) * 5/9 ]\n",
        "\n",
        "        # Значення, які були \"записані\"\n",
        "        written_values = [row[0] for row in captured_rows[1:]]\n",
        "\n",
        "        self.assertEqual(len(written_values), len(expected_c))\n",
        "        for got, exp in zip(written_values, expected_c):\n",
        "            self.assertAlmostEqual(got, exp, places=9)"
      ]
    }
  ],
  "metadata": {
    "colab": {
      "provenance": [],
      "include_colab_link": true
    },
    "kernelspec": {
      "display_name": "venv",
      "language": "python",
      "name": "python3"
    },
    "language_info": {
      "codemirror_mode": {
        "name": "ipython",
        "version": 3
      },
      "file_extension": ".py",
      "mimetype": "text/x-python",
      "name": "python",
      "nbconvert_exporter": "python",
      "pygments_lexer": "ipython3",
      "version": "3.11.5"
    },
    "orig_nbformat": 4
  },
  "nbformat": 4,
  "nbformat_minor": 0
}