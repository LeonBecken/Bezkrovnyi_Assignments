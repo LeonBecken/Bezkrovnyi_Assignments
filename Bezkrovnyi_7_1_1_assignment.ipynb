{
  "cells": [
    {
      "cell_type": "markdown",
      "metadata": {
        "id": "view-in-github",
        "colab_type": "text"
      },
      "source": [
        "<a href=\"https://colab.research.google.com/github/LeonBecken/Bezkrovnyi_Assignments/blob/main/Bezkrovnyi_7_1_1_assignment.ipynb\" target=\"_parent\"><img src=\"https://colab.research.google.com/assets/colab-badge.svg\" alt=\"Open In Colab\"/></a>"
      ]
    },
    {
      "cell_type": "markdown",
      "metadata": {
        "id": "K-xXkt9Ztf7J"
      },
      "source": [
        "# Assignment 7.1\n",
        "\n",
        "> Replace all TODOs with your code.\n",
        ">\n",
        "> Do not change any other code and do not add/remove cells!"
      ]
    },
    {
      "cell_type": "code",
      "execution_count": null,
      "metadata": {
        "id": "sGdc6BbbALg9"
      },
      "outputs": [],
      "source": [
        "# Do not edit this cell\n",
        "\n",
        "from typing import List, Dict"
      ]
    },
    {
      "cell_type": "markdown",
      "metadata": {
        "id": "cfhcjaX0vXXa"
      },
      "source": [
        "## Clients"
      ]
    },
    {
      "cell_type": "markdown",
      "metadata": {
        "id": "Vlz14hyr6wV6"
      },
      "source": [
        "### Task 1\n",
        "\n",
        "Write a function that takes a GitHub repository name as input and uses the [GitHub Repository API](https://docs.github.com/en/rest/repos) to retrieve and return information about the specified repository, including:\n",
        "\n",
        "* Repository Name\n",
        "* Owner\n",
        "* Description\n",
        "* License (if available)\n",
        "* Creation Date\n",
        "\n",
        "Use the `requests` module for this task."
      ]
    },
    {
      "cell_type": "code",
      "execution_count": 1,
      "metadata": {
        "id": "vDYn-dRb7xIX"
      },
      "outputs": [],
      "source": [
        "from typing import Dict, List\n",
        "import requests\n",
        "\n",
        "HEADERS = {\"Accept\": \"application/vnd.github+json\"}\n",
        "\n",
        "def _ensure_ok(response: requests.Response) -> None:\n",
        "\n",
        "    if 200 <= response.status_code < 300:\n",
        "        return\n",
        "    msg = \"\"\n",
        "    try:\n",
        "        msg = response.json().get(\"message\", \"\")\n",
        "    except ValueError:\n",
        "        msg = response.text[:200]\n",
        "    raise RuntimeError(f\"HTTP {response.status_code}: {msg or 'Request failed'}\")\n",
        "\n",
        "def _get_json(url: str, timeout: int = 10):\n",
        "\n",
        "    try:\n",
        "        resp = requests.get(url, headers=HEADERS, timeout=timeout)\n",
        "    except requests.RequestException as e:\n",
        "        raise RuntimeError(f\"Network error: {e}\") from e\n",
        "\n",
        "    _ensure_ok(resp)\n",
        "\n",
        "    try:\n",
        "        return resp.json()\n",
        "    except ValueError as e:\n",
        "        raise ValueError(f\"Invalid JSON from {url}: {e}\") from e\n",
        "\n",
        "\n",
        "def get_repository_info(repo_name: str) -> Dict[str, str]:\n",
        "\n",
        "    if repo_name.count(\"/\") != 1:\n",
        "        raise ValueError(\"Invalid repo_name format. Use 'owner/repo'.\")\n",
        "\n",
        "    repo_name = repo_name.strip()\n",
        "    url = f\"https://api.github.com/repos/LeonBecken/Bezkrovnyi_Assignments\"\n",
        "\n",
        "    data = _get_json(url)\n",
        "\n",
        "    return {\n",
        "        \"Repository Name\": data.get(\"name\") or \"N/A\",\n",
        "        \"Owner\": (data.get(\"owner\") or {}).get(\"login\") or \"N/A\",\n",
        "        \"Description\": data.get(\"description\") or \"No description\",\n",
        "        \"License\": ((data.get(\"license\") or {}) or {}).get(\"name\") or \"No license\",\n",
        "        \"Creation Date\": data.get(\"created_at\") or \"N/A\",\n",
        "    }\n",
        "\n",
        "\n",
        "def get_recent_commits(repo_name: str) -> List[Dict[str, str]]:\n",
        "\n",
        "    if repo_name.count(\"/\") != 1:\n",
        "        raise ValueError(\"Invalid repo_name format. Use 'owner/repo'.\")\n",
        "\n",
        "    repo_name = repo_name.strip()\n",
        "    url = f\"https://api.github.com/repos/LeonBecken/Bezkrovnyi_Assignments/commits?per_page=5\"\n",
        "\n",
        "    items = _get_json(url)\n",
        "    result: List[Dict[str, str]] = []\n",
        "\n",
        "    for item in items if isinstance(items, list) else []:\n",
        "        commit_block = item.get(\"commit\", {}) or {}\n",
        "        author_block = commit_block.get(\"author\", {}) or {}\n",
        "        result.append(\n",
        "            {\n",
        "                \"Commit Message\": commit_block.get(\"message\") or \"N/A\",\n",
        "                \"Author\": author_block.get(\"name\") or \"N/A\",\n",
        "                \"Date\": author_block.get(\"date\") or \"N/A\",\n",
        "                \"Link\": item.get(\"html_url\") or \"N/A\",\n",
        "            }\n",
        "        )\n",
        "    return result"
      ]
    },
    {
      "cell_type": "markdown",
      "metadata": {
        "id": "0TC34gv79VEo"
      },
      "source": [
        "### Task 2\n",
        "\n",
        "Write a function that takes a GitHub repository name and uses the [GitHub Commits API](https://docs.github.com/en/rest/commits/commits) to retrieve and return information about the five most recent commits in a selected GitHub repository, including:\n",
        "* Commit Message\n",
        "* Author\n",
        "* Date\n",
        "* Link to the commit on GitHub\n",
        "\n",
        "Use the `requests` module for this task."
      ]
    },
    {
      "cell_type": "code",
      "execution_count": 2,
      "metadata": {
        "id": "Kf2284dT-atu"
      },
      "outputs": [],
      "source": [
        "from typing import List, Dict\n",
        "import requests\n",
        "\n",
        "HEADERS = {\"Accept\": \"application/vnd.github+json\"}\n",
        "\n",
        "\n",
        "def _ensure_ok(response: requests.Response) -> None:\n",
        "\n",
        "    if 200 <= response.status_code < 300:\n",
        "        return\n",
        "    try:\n",
        "        msg = response.json().get(\"message\", \"\")\n",
        "    except ValueError:\n",
        "        msg = response.text[:200]\n",
        "    raise RuntimeError(f\"HTTP {response.status_code}: {msg or 'Request failed'}\")\n",
        "\n",
        "\n",
        "def _get_json(url: str, timeout: int = 10):\n",
        "\n",
        "    try:\n",
        "        resp = requests.get(url, headers=HEADERS, timeout=timeout)\n",
        "    except requests.RequestException as e:\n",
        "        raise RuntimeError(f\"Network error: {e}\") from e\n",
        "\n",
        "    _ensure_ok(resp)\n",
        "\n",
        "    try:\n",
        "        return resp.json()\n",
        "    except ValueError as e:\n",
        "        raise ValueError(f\"Invalid JSON from {url}: {e}\") from e\n",
        "\n",
        "\n",
        "def get_recent_commits(repo_name: str) -> List[Dict[str, str]]:\n",
        "\n",
        "    if repo_name.count(\"/\") != 1:\n",
        "        raise ValueError(\"Invalid repo_name format. Use 'owner/repo'.\")\n",
        "\n",
        "    repo_name = repo_name.strip()\n",
        "    url = f\"https://api.github.com/repos/Bezkrovnyi_Assignments/commits?per_page=5\"\n",
        "\n",
        "    items = _get_json(url)\n",
        "    result: List[Dict[str, str]] = []\n",
        "\n",
        "    if isinstance(items, list):\n",
        "        for item in items:\n",
        "            commit_block = item.get(\"commit\", {}) or {}\n",
        "            author_block = commit_block.get(\"author\", {}) or {}\n",
        "            result.append(\n",
        "                {\n",
        "                    \"Commit Message\": commit_block.get(\"message\") or \"N/A\",\n",
        "                    \"Author\": author_block.get(\"name\") or \"N/A\",\n",
        "                    \"Date\": author_block.get(\"date\") or \"N/A\",\n",
        "                    \"Link\": item.get(\"html_url\") or \"N/A\",\n",
        "                }\n",
        "            )\n",
        "\n",
        "    return result"
      ]
    }
  ],
  "metadata": {
    "colab": {
      "provenance": [],
      "include_colab_link": true
    },
    "kernelspec": {
      "display_name": "Python 3",
      "name": "python3"
    },
    "language_info": {
      "name": "python"
    }
  },
  "nbformat": 4,
  "nbformat_minor": 0
}