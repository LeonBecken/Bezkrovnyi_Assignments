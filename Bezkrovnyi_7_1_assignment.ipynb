{
  "cells": [
    {
      "cell_type": "markdown",
      "metadata": {
        "id": "view-in-github",
        "colab_type": "text"
      },
      "source": [
        "<a href=\"https://colab.research.google.com/github/LeonBecken/Bezkrovnyi_Assignments/blob/main/Bezkrovnyi_7_1_assignment.ipynb\" target=\"_parent\"><img src=\"https://colab.research.google.com/assets/colab-badge.svg\" alt=\"Open In Colab\"/></a>"
      ]
    },
    {
      "cell_type": "markdown",
      "metadata": {
        "id": "K-xXkt9Ztf7J"
      },
      "source": [
        "# Assignment 7.1\n",
        "\n",
        "> Replace all TODOs with your code.\n",
        ">\n",
        "> Do not change any other code and do not add/remove cells!"
      ]
    },
    {
      "cell_type": "code",
      "execution_count": null,
      "metadata": {
        "id": "sGdc6BbbALg9"
      },
      "outputs": [],
      "source": [
        "# Do not edit this cell\n",
        "\n",
        "from typing import List, Dict"
      ]
    },
    {
      "cell_type": "markdown",
      "metadata": {
        "id": "cfhcjaX0vXXa"
      },
      "source": [
        "## Clients"
      ]
    },
    {
      "cell_type": "markdown",
      "metadata": {
        "id": "Vlz14hyr6wV6"
      },
      "source": [
        "### Task 1\n",
        "\n",
        "Write a function that takes a GitHub repository name as input and uses the [GitHub Repository API](https://docs.github.com/en/rest/repos) to retrieve and return information about the specified repository, including:\n",
        "\n",
        "* Repository Name\n",
        "* Owner\n",
        "* Description\n",
        "* License (if available)\n",
        "* Creation Date\n",
        "\n",
        "Use the `requests` module for this task."
      ]
    },
    {
      "cell_type": "code",
      "execution_count": 3,
      "metadata": {
        "id": "vDYn-dRb7xIX",
        "colab": {
          "base_uri": "https://localhost:8080/"
        },
        "outputId": "5608c5e2-e888-492d-ad50-ca1ebfa55332"
      },
      "outputs": [
        {
          "output_type": "stream",
          "name": "stdout",
          "text": [
            "{'Repository Name': 'Bezkrovnyi_Assignments', 'Owner': 'LeonBecken', 'Description': None, 'License': 'No license', 'Creation Date': '2025-07-14T17:54:39Z'}\n"
          ]
        }
      ],
      "source": [
        "import requests\n",
        "from typing import Dict\n",
        "\n",
        "def get_repository_info(repo_name: str) -> Dict[str, str]:\n",
        "    url = f\"https://api.github.com/repos/LeonBecken/Bezkrovnyi_Assignments\"\n",
        "\n",
        "    response = requests.get(url)\n",
        "\n",
        "    data = response.json()\n",
        "\n",
        "    repo_info = {\n",
        "        \"Repository Name\": data.get(\"name\", \"N/A\"),\n",
        "        \"Owner\": data.get(\"owner\", {}).get(\"login\", \"N/A\"),\n",
        "        \"Description\": data.get(\"description\", \"N/A\"),\n",
        "        \"License\": data.get(\"license\", {}).get(\"name\") if data.get(\"license\") else \"No license\",\n",
        "        \"Creation Date\": data.get(\"created_at\", \"N/A\")\n",
        "    }\n",
        "\n",
        "    return repo_info\n",
        "\n",
        "print(get_repository_info(\"LeonBecken/Bezkrovnyi_Assignments\"))"
      ]
    },
    {
      "cell_type": "markdown",
      "metadata": {
        "id": "0TC34gv79VEo"
      },
      "source": [
        "### Task 2\n",
        "\n",
        "Write a function that takes a GitHub repository name and uses the [GitHub Commits API](https://docs.github.com/en/rest/commits/commits) to retrieve and return information about the five most recent commits in a selected GitHub repository, including:\n",
        "* Commit Message\n",
        "* Author\n",
        "* Date\n",
        "* Link to the commit on GitHub\n",
        "\n",
        "Use the `requests` module for this task."
      ]
    },
    {
      "cell_type": "code",
      "execution_count": 4,
      "metadata": {
        "id": "Kf2284dT-atu",
        "colab": {
          "base_uri": "https://localhost:8080/"
        },
        "outputId": "d6e3e284-4fe2-47e0-98e6-4a6effcabfed"
      },
      "outputs": [
        {
          "output_type": "stream",
          "name": "stdout",
          "text": [
            "{'Commit Message': 'Created using Colab', 'Author': 'LeonBecker', 'Date': '2025-08-21T12:53:27Z', 'URL': 'https://github.com/LeonBecken/Bezkrovnyi_Assignments/commit/7990968f2622f668d77afe48627e4506b07f953a'}\n",
            "{'Commit Message': 'Created using Colab', 'Author': 'LeonBecker', 'Date': '2025-08-19T21:52:31Z', 'URL': 'https://github.com/LeonBecken/Bezkrovnyi_Assignments/commit/ade3227c13c0135d8c585881faefce8a898f9bf1'}\n",
            "{'Commit Message': 'Created using Colab', 'Author': 'LeonBecker', 'Date': '2025-08-17T16:37:35Z', 'URL': 'https://github.com/LeonBecken/Bezkrovnyi_Assignments/commit/dc2778e0f3f3892960fae83cffa979bb750898cc'}\n",
            "{'Commit Message': 'Created using Colab', 'Author': 'LeonBecker', 'Date': '2025-08-12T22:13:18Z', 'URL': 'https://github.com/LeonBecken/Bezkrovnyi_Assignments/commit/3b0915d3292ebf9967db46b0f27b7047f4c6a598'}\n",
            "{'Commit Message': 'Created using Colab', 'Author': 'LeonBecker', 'Date': '2025-08-03T18:14:27Z', 'URL': 'https://github.com/LeonBecken/Bezkrovnyi_Assignments/commit/98fcb39e8d8694f20edfefdc4c96c2bb28b39db9'}\n"
          ]
        }
      ],
      "source": [
        "import requests\n",
        "from typing import List, Dict\n",
        "\n",
        "def get_recent_commits(repo_name: str) -> List[Dict[str, str]]:\n",
        "\n",
        "    url = f\"https://api.github.com/repos/LeonBecken/Bezkrovnyi_Assignments/commits\"\n",
        "    response = requests.get(url)\n",
        "\n",
        "    if response.status_code != 200:\n",
        "        raise ValueError(f\"File were not found: {response.status_code}\")\n",
        "\n",
        "    data = response.json()\n",
        "    commits_info = []\n",
        "\n",
        "    for commit in data[:5]:  # тільки перші 5 комітів\n",
        "        commits_info.append({\n",
        "            \"Commit Message\": commit[\"commit\"][\"message\"],\n",
        "            \"Author\": commit[\"commit\"][\"author\"][\"name\"],\n",
        "            \"Date\": commit[\"commit\"][\"author\"][\"date\"],\n",
        "            \"URL\": commit[\"html_url\"]\n",
        "        })\n",
        "\n",
        "    return commits_info\n",
        "\n",
        "if __name__ == \"__main__\":\n",
        "    commits = get_recent_commits(\"LeonBecken/Bezkrovnyi_Assignments\")\n",
        "    for c in commits:\n",
        "        print(c)"
      ]
    }
  ],
  "metadata": {
    "colab": {
      "provenance": [],
      "include_colab_link": true
    },
    "kernelspec": {
      "display_name": "Python 3",
      "name": "python3"
    },
    "language_info": {
      "name": "python"
    }
  },
  "nbformat": 4,
  "nbformat_minor": 0
}